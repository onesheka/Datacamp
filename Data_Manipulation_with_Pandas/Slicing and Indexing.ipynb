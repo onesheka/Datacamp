{
 "cells": [
  {
   "cell_type": "markdown",
   "metadata": {},
   "source": [
    "# <center> Slicing and Indexing"
   ]
  },
  {
   "cell_type": "markdown",
   "metadata": {},
   "source": [
    "#### Setting a column as an Index"
   ]
  },
  {
   "cell_type": "markdown",
   "metadata": {},
   "source": [
    "1. set_index() method\n",
    "   - new_dataframe = data_frame.set_index(\"col_name\")\n"
   ]
  },
  {
   "cell_type": "markdown",
   "metadata": {},
   "source": [
    "#### Removing an index"
   ]
  },
  {
   "cell_type": "markdown",
   "metadata": {},
   "source": [
    "2. reset_index() method\n",
    "   - new_dataframe.reset_index() - to reset the index\n",
    "   - drop argument entirely removes the index from the table\n"
   ]
  },
  {
   "cell_type": "markdown",
   "metadata": {},
   "source": [
    "#### Indexes making subsetting easier"
   ]
  },
  {
   "cell_type": "markdown",
   "metadata": {},
   "source": [
    "- Values in the index don't need to be unique\n",
    "- Can include multiple columns in the index by passing multiple column names as a list\n",
    "- we can subset inner levels with tuples"
   ]
  },
  {
   "cell_type": "markdown",
   "metadata": {},
   "source": [
    "#### Sorting by index values"
   ]
  },
  {
   "cell_type": "markdown",
   "metadata": {},
   "source": [
    "3. sort_index() method\n",
    "   - ascending argument "
   ]
  },
  {
   "cell_type": "markdown",
   "metadata": {},
   "source": [
    "#### 2 propblems:\n",
    "1. Index values are just data\n",
    "2. Indexes violate \"tidy data\" principles\n",
    "3. You need to learn 2 syntaxes\n",
    "But useful to know how it works, to read other people's code"
   ]
  },
  {
   "cell_type": "markdown",
   "metadata": {},
   "source": [
    "#### Slicing and Subsetting with loc and iloc\n",
    "Compared to slicing lists, there are a few things to remember.\n",
    "\n",
    "- You can only slice an index if the index is sorted (using .sort_index()).\n",
    "- To slice at the outer level, first and last can be strings.\n",
    "- To slice at inner levels, first and last should be tuples.\n",
    "- If you pass a single slice to .loc[], it will slice the rows."
   ]
  },
  {
   "cell_type": "markdown",
   "metadata": {},
   "source": []
  }
 ],
 "metadata": {
  "kernelspec": {
   "display_name": "Python 3",
   "language": "python",
   "name": "python3"
  },
  "language_info": {
   "codemirror_mode": {
    "name": "ipython",
    "version": 3
   },
   "file_extension": ".py",
   "mimetype": "text/x-python",
   "name": "python",
   "nbconvert_exporter": "python",
   "pygments_lexer": "ipython3",
   "version": "3.7.6"
  }
 },
 "nbformat": 4,
 "nbformat_minor": 4
}
