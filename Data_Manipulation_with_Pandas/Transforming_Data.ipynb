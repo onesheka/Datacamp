{
 "cells": [
  {
   "cell_type": "markdown",
   "metadata": {},
   "source": [
    "## Pandas - Dataframe"
   ]
  },
  {
   "cell_type": "markdown",
   "metadata": {},
   "source": [
    "Like sql has database tables, pandas has dataframes"
   ]
  },
  {
   "cell_type": "markdown",
   "metadata": {},
   "source": [
    "#### Exploring a dataframe:\n",
    "1. head() - returns first few rows of the dataframe\n",
    "2. info() - displays the names of the columns, datatype they contain and if they have any missing value\n",
    "3. shape - no of rows and columns\n",
    "4. describe() - computes some summary statistics for columns like mean and median"
   ]
  },
  {
   "cell_type": "markdown",
   "metadata": {},
   "source": [
    "#### Components of a Dataframe\n",
    "1. .values: contains data values in a 2D numpy array\n",
    "2. .columns: an index of columns, column names\n",
    "3. .index: an index of rows: either row numbers or row names"
   ]
  },
  {
   "cell_type": "markdown",
   "metadata": {},
   "source": [
    "#### Sorting and Subsetting"
   ]
  },
  {
   "cell_type": "markdown",
   "metadata": {},
   "source": [
    "1. Sort_values('col name you want to sort by') : pass the col name you want to sort by\n",
    "   - argument:  ascending:False will sort in descending order\n",
    "   - pass multible variables by passing a list of column names in the sort_values(also pass the list to ascending argument)\n",
    "   - By combining .sort_values() with .head(), you can answer questions in the form, \"What are the top cases where...?\".\n",
    "   <br>\n",
    "   <br>\n",
    "   \n",
    "2. Subsetting: to zoom in just a particular data we want to look in\n",
    "   - example: name_of_dataframe[\"col_name\"]\n",
    "   - to select multiple cols, you need to pass the columns in square brackets. <br>\n",
    "     example: name_of_dataframe[[\"col1\",\"col2\"]] <br>\n",
    "     the outer brackets are used for subsetting <br>\n",
    "     the inner brackets are used for specifying the list\n",
    "   - there are multiple ways to subset rows.\n",
    "   - one of the most common is to use logical operators to filter the data <br>\n",
    "     example: name_of_dataframe['col1'] > 10, will return a list of True and False accordingly\n",
    "   - we can also use text data <br>\n",
    "     example: name_of_dataframe[name_of_dataframe['name_of_employees']==\"Vanshika\"]\n",
    "   - based on dates <br>\n",
    "     example:  name_of_dataframe[name_of_dataframe['born_date'] > '1999-13-06']\n",
    "   - to use multiple conditions, we can use logical operators like (&) and, or(|), not(!)\n",
    "   - subsetting using .isin() <br>\n",
    "     is_black_or_brown = dogs['color'].isin([\"Black\",\"Brown\"])\n",
    " "
   ]
  },
  {
   "cell_type": "markdown",
   "metadata": {},
   "source": [
    "#### New Columns"
   ]
  },
  {
   "cell_type": "markdown",
   "metadata": {},
   "source": [
    "- mutating a dataframe, transforming a dataframe and feature engineering\n",
    "- sorting rows, subsetting columns, subsetting rows, and adding new columns. Combining them together to get what we want."
   ]
  },
  {
   "cell_type": "code",
   "execution_count": null,
   "metadata": {},
   "outputs": [],
   "source": []
  }
 ],
 "metadata": {
  "kernelspec": {
   "display_name": "Python 3",
   "language": "python",
   "name": "python3"
  },
  "language_info": {
   "codemirror_mode": {
    "name": "ipython",
    "version": 3
   },
   "file_extension": ".py",
   "mimetype": "text/x-python",
   "name": "python",
   "nbconvert_exporter": "python",
   "pygments_lexer": "ipython3",
   "version": "3.7.6"
  }
 },
 "nbformat": 4,
 "nbformat_minor": 4
}
